{
 "cells": [
  {
   "cell_type": "markdown",
   "metadata": {},
   "source": [
    "## Extract FTE data eith event locations"
   ]
  },
  {
   "cell_type": "code",
   "execution_count": 7,
   "metadata": {},
   "outputs": [
    {
     "name": "stderr",
     "output_type": "stream",
     "text": [
      "/Users/naveen/opt/anaconda3/lib/python3.7/importlib/_bootstrap.py:219: RuntimeWarning: numpy.ufunc size changed, may indicate binary incompatibility. Expected 192 from C header, got 216 from PyObject\n",
      "  return f(*args, **kwds)\n"
     ]
    }
   ],
   "source": [
    "import numpy as np\n",
    "import pickle\n",
    "import pandas as pd\n",
    "from sklearn.model_selection import train_test_split"
   ]
  },
  {
   "cell_type": "code",
   "execution_count": 9,
   "metadata": {},
   "outputs": [],
   "source": []
  },
  {
   "cell_type": "code",
   "execution_count": 10,
   "metadata": {},
   "outputs": [],
   "source": [
    "# For Train Test SPlit\n",
    "random_state = 3\n",
    "\n",
    "#Load Data\n",
    "segments = np.load('themis/segments-newdata-all.npy')\n",
    "\n",
    "merged = segments.reshape(-1, segments.shape[-1])\n",
    "mean = merged.mean(axis=0)\n",
    "std = merged.std(axis=0)\n",
    "segments = segments - mean\n",
    "segments = (segments / std[None, None, :])[:,:,[5]]\n",
    "\n",
    "min = np.min(segments)\n",
    "segments = segments - min\n",
    "max = np.max(segments)\n",
    "segments = segments / max\n",
    "labels = np.load('themis/labels-newdata-all.npy')\n",
    "labels = np.asarray(pd.get_dummies(labels))\n",
    "with open('themis/bbox.pickle','rb') as f:\n",
    "    bboxes = pickle.load(f)\n",
    "\n",
    "GT_len = [np.sum(bboxes[i][:,2]-bboxes[i][:,0])/bboxes[i].shape[0] for i in bboxes if bboxes[i].shape[0] > 0]\n",
    "avg_GT_len = sum(GT_len)/len(GT_len)\n",
    "# get Train val test split\n",
    "indices = np.arange(0,segments.shape[0])\n",
    "indices_tmp, indices_test = train_test_split(indices, test_size=0.2, random_state=random_state)\n",
    "\n",
    "indices_train, indices_val  = train_test_split(indices_tmp, test_size=0.1, random_state=random_state)\n"
   ]
  },
  {
   "cell_type": "code",
   "execution_count": 12,
   "metadata": {},
   "outputs": [],
   "source": [
    "# non empty bbox indices\n",
    "indices_non_empty_train = [i for i in indices_train if bboxes[i].size is not 0]\n",
    "indices_non_empty_val = [i for i in indices_val if bboxes[i].size is not 0]\n",
    "indices_non_empty_test = [i for i in indices_test if bboxes[i].size is not 0 ]\n",
    "pos_list = [i for i in indices if bboxes[i].size is not 0]\n",
    "# TODO have a look carefully\n",
    "\n",
    "\n",
    "X_train = segments[indices_train, :].reshape(len(indices_train), 1440, 1, 1)\n",
    "y_train = labels[indices_train]\n",
    "X_val = segments[indices_val, :].reshape(len(indices_val), 1440, 1, 1)\n",
    "y_val = labels[indices_val]\n",
    "X_test = segments[indices_test, :].reshape(len(indices_test), 1440, 1, 1)\n",
    "y_test = labels[indices_test]\n",
    "bbox_train = {i: bboxes[i] for i in indices_train}\n",
    "bbox_test = {i: bboxes[i] for i in indices_test}\n",
    "bbox_val = {i: bboxes[i] for i in indices_val}\n"
   ]
  },
  {
   "cell_type": "code",
   "execution_count": null,
   "metadata": {},
   "outputs": [],
   "source": []
  },
  {
   "cell_type": "code",
   "execution_count": null,
   "metadata": {},
   "outputs": [],
   "source": []
  }
 ],
 "metadata": {
  "kernelspec": {
   "display_name": "Python 3",
   "language": "python",
   "name": "python3"
  },
  "language_info": {
   "codemirror_mode": {
    "name": "ipython",
    "version": 3
   },
   "file_extension": ".py",
   "mimetype": "text/x-python",
   "name": "python",
   "nbconvert_exporter": "python",
   "pygments_lexer": "ipython3",
   "version": "3.7.6"
  }
 },
 "nbformat": 4,
 "nbformat_minor": 4
}
