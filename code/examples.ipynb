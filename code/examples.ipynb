{
 "cells": [
  {
   "cell_type": "markdown",
   "metadata": {},
   "source": [
    "# Manifolder\n",
    "\n",
    "In this notebook we'll show how to use manifolder to perform manifold reconstruction on two datasets:\n",
    "\n",
    "1. some simple test data,\n",
    "2. solar wind (aka, \"space weather\") data.\n",
    "\n",
    "## Example 1: Test data\n",
    "\n",
    "The file `data/simple_data.csv` contains 8 channels of timeseries test data.\n",
    "\n",
    "This dataset was built to be a test case that any method of timeseries clustering should be able to handle.\n",
    "\n",
    "It has clearly defined modes, visible to the naked eye.\n",
    "\n",
    "For simplicity, only the first column contains the test signal.\n",
    "\n",
    "This column contains a few different, repeating signal types.\n",
    "\n",
    "All channels have low-level noise added, for numerical stability.\n",
    "\n",
    "At present, `Manifolder` cannot determine the number of dimensions of the\n",
    "underlying manifold in an unsupervised manner. Like KMeans, the first\n",
    "parameter to the constructor is the user's \"guess\", which will determine\n",
    "the structures `Manifolder` looks for.\n",
    "\n",
    "For example, calling `Manifolder(dim=3)` will attempt to project the signal\n",
    "into an an underlying 3-dimensional manifold."
   ]
  },
  {
   "cell_type": "code",
   "execution_count": null,
   "metadata": {},
   "outputs": [],
   "source": [
    "# useful set of python imports\n",
    "\n",
    "%load_ext autoreload\n",
    "%autoreload 2\n",
    "\n",
    "import numpy as np\n",
    "\n",
    "np.set_printoptions(suppress=True, precision=4)\n",
    "\n",
    "import matplotlib.pyplot as plt\n",
    "%config InlineBackend.figure_format = 'svg'\n",
    "\n",
    "import seaborn as sns\n",
    "sns.set()\n",
    "\n",
    "import pandas as pd\n",
    "\n",
    "import time\n",
    "\n",
    "def separator(char='-', n=42):\n",
    "    print(char*n)"
   ]
  },
  {
   "cell_type": "markdown",
   "metadata": {},
   "source": [
    "### Import manifolder"
   ]
  },
  {
   "cell_type": "code",
   "execution_count": null,
   "metadata": {},
   "outputs": [],
   "source": [
    "import manifolder as mr"
   ]
  },
  {
   "cell_type": "markdown",
   "metadata": {},
   "source": [
    "### Run manifolder"
   ]
  },
  {
   "cell_type": "code",
   "execution_count": null,
   "metadata": {},
   "outputs": [],
   "source": [
    "start_time = time.time()\n",
    "\n",
    "# load the data\n",
    "data_location = 'data/simple_data.csv'\n",
    "df = pd.read_csv(data_location, header=None)\n",
    "\n",
    "test_snippets = True\n",
    "\n",
    "if test_snippets:\n",
    "    # test running \"snippets\" of the time series, by passing in\n",
    "    # chunks of data as a list\n",
    "    # Example as several snippets of time series\n",
    "    print('testing data a list of matrices')\n",
    "    z = [df.values[0:7000, :]]\n",
    "    z.append(df.values[7001:14000, :])\n",
    "    z.append(df.values[14001:21000, :])\n",
    "    print('loaded', data_location + ', shape:', len(z))\n",
    "\n",
    "else:\n",
    "    # this would be the standard way of running the code,\n",
    "    # if you have one continous series of data\n",
    "    print('testing data as a single matrix')\n",
    "    z = df.values\n",
    "    print('loaded', data_location + ', shape:', z.shape)\n",
    "\n",
    "# create manifolder object\n",
    "H = 80\n",
    "step_size = 10\n",
    "manifolder = mr.Manifolder(H=H, step_size=step_size, nbins=10, ncov=20)\n",
    "\n",
    "# add the data, and fit.\n",
    "# this is the equivalent of calling\n",
    "#\n",
    "#        manifolder._load_data(X)\n",
    "#        manifolder._histograms_overlap()\n",
    "#        manifolder._covariances()\n",
    "#        manifolder._embedding()\n",
    "#        manifolder._clustering()\n",
    "#\n",
    "manifolder.fit_transform(z)\n",
    "\n",
    "# manifolder._clustering(kmns=False)  # display\n",
    "\n",
    "elapsed_time = time.time() - start_time\n",
    "print(f'Program Executed in {elapsed_time:.2f} seconds')"
   ]
  },
  {
   "cell_type": "code",
   "execution_count": null,
   "metadata": {},
   "outputs": [],
   "source": [
    "start_time = time.time()\n",
    "\n",
    "manifolder._clustering()  # display\n",
    "\n",
    "elapsed_time = time.time() - start_time\n",
    "print(f'Program Executed for k means clustering in {elapsed_time:.2f} seconds')"
   ]
  },
  {
   "cell_type": "markdown",
   "metadata": {},
   "source": [
    "### Build a map from cluster index to observed lengths.\n",
    "\n",
    "The IDX attribute of the `Manifolder` instance contains the index of clusters (typically ~7).\n",
    "\n",
    "We'll make this into a dictionary where the key denotes the cluster index (0 to 6), and the value is a list of the collection of lengths."
   ]
  },
  {
   "cell_type": "code",
   "execution_count": null,
   "metadata": {},
   "outputs": [],
   "source": [
    "IDX = manifolder.IDX\n",
    "cluster_lens = mr.count_cluster_lengths(IDX)\n",
    "\n",
    "mr.show_cluster_lengths(cluster_lens)"
   ]
  },
  {
   "cell_type": "code",
   "execution_count": null,
   "metadata": {},
   "outputs": [],
   "source": [
    "start_time = time.time()\n",
    "\n",
    "manifolder._clustering(kmns=True)  # display\n",
    "\n",
    "elapsed_time = time.time() - start_time\n",
    "print(f'Program Executed for k medoids with Euclidean distances clustering in {elapsed_time:.2f} seconds')"
   ]
  },
  {
   "cell_type": "code",
   "execution_count": null,
   "metadata": {},
   "outputs": [],
   "source": [
    "# clustering data for k-medoids with Euclidean distances...\n",
    "\n",
    "IDX = manifolder.IDX\n",
    "cluster_lens = mr.count_cluster_lengths(IDX)\n",
    "\n",
    "# cluster_lens is a dictionary a dictonary, where each key is the cluster number (0:6),\n",
    "# and the values are a list of cluster lengths\n",
    "\n",
    "mr.show_cluster_lengths(cluster_lens)"
   ]
  },
  {
   "cell_type": "markdown",
   "metadata": {},
   "source": [
    "### Graph Transition (Markov) Matrix\n",
    "\n",
    "The system can be though of as being in one particular \"state\" (cluster value) at any given time.  This state $S$ can be though of as a column vector with $C$ dimensions, similar to states in quantum mechanics, where the column vector plays the role of the transition matrix.\n",
    "\n",
    "Time evolution is given by the tranistion matrix $M$, which is a Markov matrix. In a Markov matrix, all columns sum to one. As such, each vector in the standard orthonormal basis is sent to a \"distribution\" over the states it may be in on the next time step. Symbolically, we have:\n",
    "\n",
    "$$\n",
    "S_{n+1} = M @ S_n \n",
    "$$\n",
    "\n",
    "Where $@$ denotes matrix multiplication.\n",
    "\n",
    "If the \"Planck time\" or smallest resolvable time increment is significantly smaller than the characteristic time of the physical system, then on most time steps, most clusters will \"transition to\" themselves. As such, the diagonal values of the matrix will typically be very close to 1. For visualization therefore, we can remove the diagonal elements of the matrix in order to see the interesting variation that involves a transition from one state to another."
   ]
  },
  {
   "cell_type": "code",
   "execution_count": null,
   "metadata": {},
   "outputs": [],
   "source": [
    "# in this case, the index goes from 0 to 6.\n",
    "# can also have outlier groups in kmeans, need to check for this\n",
    "\n",
    "print(IDX.shape)\n",
    "print(np.min(IDX))\n",
    "print(np.max(IDX))\n",
    "\n",
    "IDX_max = np.max(IDX)"
   ]
  },
  {
   "cell_type": "code",
   "execution_count": null,
   "metadata": {},
   "outputs": [],
   "source": [
    "M = mr.make_transition_matrix(IDX)\n",
    "print('transition matrix:\\n', M)"
   ]
  },
  {
   "cell_type": "code",
   "execution_count": null,
   "metadata": {},
   "outputs": [],
   "source": [
    "# reorder transition matrix, from most to least common cluster\n",
    "# diagonal elements monotonically decreasing\n",
    "\n",
    "IDX_ordered = mr.reorder_cluster(IDX, M)\n",
    "\n",
    "M = mr.make_transition_matrix(IDX_ordered)\n",
    "\n",
    "separator()\n",
    "print('Transition matrix, ordered:\\n', M)\n",
    "\n",
    "mr.image_M(M)"
   ]
  },
  {
   "cell_type": "code",
   "execution_count": null,
   "metadata": {},
   "outputs": [],
   "source": [
    "# remove diagonal, and make markov, for display\n",
    "\n",
    "print('transition matrix, diagonal elements removed, normalized (Markov)')\n",
    "\n",
    "np.fill_diagonal(M, 0)  # happens inplace\n",
    "M = mr.make_matrix_markov(M)\n",
    "\n",
    "print(M)\n",
    "mr.image_M(M, 1)"
   ]
  },
  {
   "cell_type": "markdown",
   "metadata": {},
   "source": [
    "## Example 2: Solar wind data"
   ]
  },
  {
   "cell_type": "code",
   "execution_count": null,
   "metadata": {},
   "outputs": [],
   "source": [
    "start_time = time.time()\n",
    "\n",
    "# load the data\n",
    "data_location = 'data/solar_wind_data.csv'\n",
    "df = pd.read_csv(data_location, header=None)\n",
    "z = df.values\n",
    "print(f'loaded {data_location}, shape: {z.shape}')\n",
    "\n",
    "# create manifolder object\n",
    "manifolder = mr.Manifolder()\n",
    "\n",
    "# add the data, and fit (this runs all the functions)\n",
    "manifolder.fit_transform(z)\n",
    "\n",
    "manifolder._clustering()  # display\n",
    "\n",
    "elapsed_time = time.time() - start_time\n",
    "print(f'Program Executed in {elapsed_time:.2f} seconds')"
   ]
  },
  {
   "cell_type": "code",
   "execution_count": null,
   "metadata": {},
   "outputs": [],
   "source": [
    "# clustering data ...\n",
    "\n",
    "IDX = manifolder.IDX\n",
    "cluster_lens = mr.count_cluster_lengths(IDX)\n",
    "mr.show_cluster_lengths(cluster_lens, sharey=False)"
   ]
  },
  {
   "cell_type": "code",
   "execution_count": null,
   "metadata": {},
   "outputs": [],
   "source": [
    "M = mr.make_transition_matrix(IDX)\n",
    "print('transition matrix:\\n', M)"
   ]
  },
  {
   "cell_type": "code",
   "execution_count": null,
   "metadata": {},
   "outputs": [],
   "source": [
    "# reorder transition matrix, from most to least common cluster\n",
    "# diagonal elements monotonically decreasing\n",
    "\n",
    "IDX_ordered = mr.reorder_cluster(IDX, M)\n",
    "\n",
    "M = mr.make_transition_matrix(IDX_ordered)\n",
    "print('transition matrix, ordered:', M)\n",
    "\n",
    "mr.image_M(M)"
   ]
  },
  {
   "cell_type": "code",
   "execution_count": null,
   "metadata": {},
   "outputs": [],
   "source": [
    "# remove diagonal, and make markov, for display\n",
    "\n",
    "print('Transition matrix, diagonal elements removed, normalized (Markov)')\n",
    "\n",
    "np.fill_diagonal(M, 0)  # happens inplace\n",
    "M = mr.make_matrix_markov(M)\n",
    "\n",
    "print(M)\n",
    "mr.image_M(M, 1)"
   ]
  }
 ],
 "metadata": {
  "kernelspec": {
   "display_name": "Python 3",
   "language": "python",
   "name": "python3"
  },
  "language_info": {
   "codemirror_mode": {
    "name": "ipython",
    "version": 3
   },
   "file_extension": ".py",
   "mimetype": "text/x-python",
   "name": "python",
   "nbconvert_exporter": "python",
   "pygments_lexer": "ipython3",
   "version": "3.8.3"
  }
 },
 "nbformat": 4,
 "nbformat_minor": 4
}
